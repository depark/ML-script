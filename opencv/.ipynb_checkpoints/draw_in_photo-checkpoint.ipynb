{
 "cells": [
  {
   "cell_type": "code",
   "execution_count": 29,
   "metadata": {},
   "outputs": [
    {
     "name": "stdout",
     "output_type": "stream",
     "text": [
      "退出\n"
     ]
    }
   ],
   "source": [
    "import cv2\n",
    "import numpy as np\n",
    "import time\n",
    "\n",
    "image_file = r'D:\\share\\learn\\ML\\data\\object_detection\\photo\\6.jpg'\n",
    "img=cv2.imread(image_file)\n",
    "\n",
    "drawing=False  #鼠标按下为True\n",
    "mode = True    #画直线或圆\n",
    "ix,iy = -1,-1\n",
    "\n",
    "def draw_circle(event,x,y,flags,params):\n",
    "    global ix,iy,drawing,mode,img\n",
    "    #按下左键返回起始位置坐标\n",
    "    if event == cv2.EVENT_LBUTTONDOWN:\n",
    "        drawing = True\n",
    "        ix,iy = x,y\n",
    "    #当鼠标移动 并且是左键拖拽    event查看是否移动 flag查看是否按下\n",
    "    elif event==cv2.EVENT_MOUSEMOVE and flags==cv2.EVENT_FLAG_LBUTTON:    \n",
    "        if drawing == True:\n",
    "            if mode==True:\n",
    "                #画直线\n",
    "                #cv2.line(img,(ix,iy),(x,y),(24,10,150),2)\n",
    "                #鼠标拖动划线\n",
    "                cv2.circle(img,(x,y),3,(34,56,222),-1)\n",
    "            else:\n",
    "                cv2.circle(img,(x,y),30,(0,60,255),2)\n",
    "    #鼠标松开\n",
    "    elif event==cv2.EVENT_LBUTTONUP:\n",
    "        drawing=False\n",
    "    #左键双击画圆\n",
    "    elif event==cv2.EVENT_LBUTTONDBLCLK:\n",
    "        cv2.circle(img,(x,y),30,(30,160,255),1)\n",
    "    #鼠标左键画一个实心点\n",
    "    elif event==cv2.EVENT_LBUTTONDOWN:\n",
    "        cv2.circle(img,(x,y),30,(34,56,222),-1)\n",
    "    elif event==cv2.EVENT_LBUTTONUP:\n",
    "        img=cv2.imread(image_file)\n",
    "    elif event==cv2.EVENT_LBUTTONDOWN:\n",
    "        print('左键点击')\n",
    "        text = '(%s,%s)' % (x,y)\n",
    "        cv2.putText(img,text,(x+10,y+10),cv2.FONT_HERSHEY_SIMPLEX,4,cv2.COLOR_BAYER_BG2RGB_VNG,cv2.LINE_4)\n",
    "    \n",
    "cv2.namedWindow('image')\n",
    "cv2.setMouseCallback('image',draw_circle)\n",
    "\n",
    "while(1):\n",
    "    cv2.imshow('image',img)\n",
    "    k=cv2.waitKey(30)\n",
    "    if k==ord('q'):\n",
    "        print('退出')\n",
    "        cv2.destroyAllWindows()\n",
    "        break\n",
    "    elif k==ord('m'):\n",
    "        mode = not mode\n",
    "        if mode==True:\n",
    "            print('进入直线模式')\n",
    "        else:\n",
    "            print('进入圆圈模式')\n",
    "    elif k==0:\n",
    "        img=cv2.imread(image_file)\n",
    "\n",
    "\n"
   ]
  },
  {
   "cell_type": "code",
   "execution_count": null,
   "metadata": {},
   "outputs": [],
   "source": []
  },
  {
   "cell_type": "code",
   "execution_count": null,
   "metadata": {},
   "outputs": [],
   "source": []
  },
  {
   "cell_type": "code",
   "execution_count": null,
   "metadata": {},
   "outputs": [],
   "source": []
  },
  {
   "cell_type": "code",
   "execution_count": null,
   "metadata": {},
   "outputs": [],
   "source": []
  },
  {
   "cell_type": "code",
   "execution_count": null,
   "metadata": {},
   "outputs": [],
   "source": []
  },
  {
   "cell_type": "code",
   "execution_count": null,
   "metadata": {},
   "outputs": [],
   "source": []
  }
 ],
 "metadata": {
  "kernelspec": {
   "display_name": "Python 3",
   "language": "python",
   "name": "python3"
  },
  "language_info": {
   "codemirror_mode": {
    "name": "ipython",
    "version": 3
   },
   "file_extension": ".py",
   "mimetype": "text/x-python",
   "name": "python",
   "nbconvert_exporter": "python",
   "pygments_lexer": "ipython3",
   "version": "3.7.3"
  }
 },
 "nbformat": 4,
 "nbformat_minor": 2
}
