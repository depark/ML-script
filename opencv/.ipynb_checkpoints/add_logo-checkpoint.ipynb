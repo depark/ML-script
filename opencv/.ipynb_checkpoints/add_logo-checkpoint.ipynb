{
 "cells": [
  {
   "cell_type": "code",
   "execution_count": null,
   "metadata": {},
   "outputs": [],
   "source": [
    "import cv2\n",
    "\n",
    "\n",
    "img1=cv2.imread(r'D:\\share\\learn\\ML\\data\\object_detection\\photo\\6.jpg')\n",
    "img2=cv2.imread(r'D:\\share\\learn\\ML\\data\\object_detection\\photo\\logo.jpg')\n",
    "\n",
    "img2=cv2.resize(img2,(300,400))\n",
    "\n",
    "#获取logo尺寸,对应到img1像素\n",
    "row,cols,channels = img2.shape\n",
    "roi = img1[0:row,0:cols]                \n",
    "                \n",
    "#获取轮廓 获得两种相反的前后背景轮廓图\n",
    "img2gray = cv2.cvtColor(img2,cv2.COLOR_BGR2GRAY)   #转化为灰色单层\n",
    "\n",
    "#获取两种0-255像素图像\n",
    "ret,mask = cv2.threshold(img2gray,175,255,cv2.THRESH_BINARY)   #像素中大于175为255 其他为0  得到黑色部分轮廓\n",
    "mask_inv = cv2.bitwise_not(mask)   # 255和0取反   得到白色部分轮廓\n",
    "\n",
    "#合并像素 将roi和mask中不为0的值对应像素值，其他为0  {x && 0} =0  {x && 255} = x  得到img1在roi位置的背景像素\n",
    "img1_bg=cv2.bitwise_and(roi,roi,mask=mask)\n",
    "\n",
    "#获取log前景  logo背景设置为0 获取前景像素\n",
    "img2_fg = cv2.bitwise_and(img2,img2,mask=mask_inv) \n",
    "\n",
    "#前后景相加获得logo部分真实像素\n",
    "dst = cv2.add(img1_bg,img2_fg)\n",
    "\n",
    "#图片1上设置为logo像素值\n",
    "img1[0:row,0:cols] = dst\n",
    "\n",
    "\n"
   ]
  }
 ],
 "metadata": {
  "kernelspec": {
   "display_name": "Python 3",
   "language": "python",
   "name": "python3"
  },
  "language_info": {
   "codemirror_mode": {
    "name": "ipython",
    "version": 3
   },
   "file_extension": ".py",
   "mimetype": "text/x-python",
   "name": "python",
   "nbconvert_exporter": "python",
   "pygments_lexer": "ipython3",
   "version": "3.7.3"
  }
 },
 "nbformat": 4,
 "nbformat_minor": 2
}
