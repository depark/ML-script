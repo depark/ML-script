{
 "cells": [
  {
   "cell_type": "code",
   "execution_count": 1,
   "metadata": {},
   "outputs": [
    {
     "name": "stdout",
     "output_type": "stream",
     "text": [
      "0.1\n",
      "0.2\n",
      "0.30000000000000004\n",
      "0.4\n",
      "0.5\n",
      "0.6\n",
      "0.7\n",
      "0.7999999999999999\n",
      "0.8999999999999999\n",
      "0.9999999999999999\n",
      "1.0999999999999999\n"
     ]
    }
   ],
   "source": [
    "import cv2\n",
    "\n",
    "#两幅图像平滑转换\n",
    "img1=cv2.imread(r'D:\\share\\learn\\ML\\data\\object_detection\\photo\\1.jpg')\n",
    "img2=cv2.imread(r'D:\\share\\learn\\ML\\data\\object_detection\\photo\\2.jpg')\n",
    "\n",
    "img1=cv2.resize(img1,(400,600))\n",
    "img2=cv2.resize(img2,(400,600))\n",
    "\n",
    "\n",
    "w=0\n",
    "\n",
    "while True:\n",
    "    if w>=1:\n",
    "        break\n",
    "    add=cv2.addWeighted(img1,w,img2,1-w,0)\n",
    "    cv2.imshow('add',add)\n",
    "    cv2.waitKey(500)    #转换间隔为一秒\n",
    "    w+=0.1               # 每次转换系数为0.1\n",
    "    print(w)    \n",
    "cv2.destroyAllWindows()    "
   ]
  },
  {
   "cell_type": "code",
   "execution_count": null,
   "metadata": {},
   "outputs": [],
   "source": []
  },
  {
   "cell_type": "code",
   "execution_count": null,
   "metadata": {},
   "outputs": [],
   "source": []
  }
 ],
 "metadata": {
  "kernelspec": {
   "display_name": "Python 3",
   "language": "python",
   "name": "python3"
  },
  "language_info": {
   "codemirror_mode": {
    "name": "ipython",
    "version": 3
   },
   "file_extension": ".py",
   "mimetype": "text/x-python",
   "name": "python",
   "nbconvert_exporter": "python",
   "pygments_lexer": "ipython3",
   "version": "3.7.3"
  }
 },
 "nbformat": 4,
 "nbformat_minor": 2
}
