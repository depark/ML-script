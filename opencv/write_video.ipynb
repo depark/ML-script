{
 "cells": [
  {
   "cell_type": "code",
   "execution_count": null,
   "metadata": {},
   "outputs": [],
   "source": [
    "#读取摄像头并保存摄像头视屏 保存路径为D:\\tmp\\1.mp4  振频率为30\n",
    "import numpy as np\n",
    "import cv2\n",
    "\n",
    "cap = cv2.VideoCapture(0)\n",
    "\n",
    "fourcc = cv2.VideoWriter_fourcc(*'DIVX')\n",
    "out = cv2.VideoWriter(r'D:\\tmp\\2.mp4',fourcc,30.0,(640,480))\n",
    "\n",
    "while (cap.isOpened()):\n",
    "    ret,frame = cap.read()\n",
    "    if ret == True:\n",
    "        out.write(frame)\n",
    "        f = cv2.cvtColor(frame,cv2.COLOR_LBGR2LUV)\n",
    "        cv2.imshow('frame',frame)\n",
    "        if cv2.waitKey(1) == ord('q'):  #当播放视屏,这个参数不能随意设置,25或者30\n",
    "            cv2.destroyAllWindows()\n",
    "            cap.release()\n",
    "            out.release()\n",
    "    else:\n",
    "        break"
   ]
  },
  {
   "cell_type": "code",
   "execution_count": null,
   "metadata": {},
   "outputs": [],
   "source": [
    "q"
   ]
  }
 ],
 "metadata": {
  "kernelspec": {
   "display_name": "Python 3",
   "language": "python",
   "name": "python3"
  },
  "language_info": {
   "codemirror_mode": {
    "name": "ipython",
    "version": 3
   },
   "file_extension": ".py",
   "mimetype": "text/x-python",
   "name": "python",
   "nbconvert_exporter": "python",
   "pygments_lexer": "ipython3",
   "version": "3.7.3"
  }
 },
 "nbformat": 4,
 "nbformat_minor": 2
}
