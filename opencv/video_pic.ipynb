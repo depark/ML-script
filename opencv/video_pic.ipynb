{
 "cells": [
  {
   "cell_type": "code",
   "execution_count": 1,
   "metadata": {},
   "outputs": [],
   "source": [
    "import cv2\n",
    "import random\n",
    "from time import sleep\n",
    "import os\n",
    "cap=cv2.VideoCapture(0)\n",
    "\n",
    "path='d:\\pic\\pic'\n",
    "frame_cnt = 0\n",
    "num = 0\n",
    "if not os.path.exists(path):\n",
    "    os.makedirs(path)\n",
    "content = ['你','是','猪','头','看','猪','头']\n",
    "    \n",
    "while True:\n",
    "   ret,fram = cap.read()\n",
    "   cv2.imshow('停不下来了',fram) \n",
    "   if cv2.waitKey(1) == ord('q'):\n",
    "     cv2.destroyAllWindows()\n",
    "     cap.release()\n",
    "     break\n",
    "   if frame_cnt % 15 == 0:    \n",
    "       cv2.imencode('.jpg',fram)[1].tofile(r'%s\\%s-%s.jpg' % (path,content[num%7],random.randint(1000,2000)))\n",
    "       num+=1 \n",
    "   frame_cnt+=1\n",
    "    "
   ]
  },
  {
   "cell_type": "code",
   "execution_count": null,
   "metadata": {},
   "outputs": [],
   "source": []
  },
  {
   "cell_type": "code",
   "execution_count": null,
   "metadata": {},
   "outputs": [],
   "source": []
  }
 ],
 "metadata": {
  "kernelspec": {
   "display_name": "Python 3",
   "language": "python",
   "name": "python3"
  },
  "language_info": {
   "codemirror_mode": {
    "name": "ipython",
    "version": 3
   },
   "file_extension": ".py",
   "mimetype": "text/x-python",
   "name": "python",
   "nbconvert_exporter": "python",
   "pygments_lexer": "ipython3",
   "version": "3.7.3"
  }
 },
 "nbformat": 4,
 "nbformat_minor": 2
}
